{
 "cells": [
  {
   "cell_type": "code",
   "execution_count": 3,
   "id": "df242341-104e-43a2-a0fc-a5825ae7c737",
   "metadata": {},
   "outputs": [],
   "source": [
    "import torch\n",
    "import torch.nn.functional as F\n",
    "import matplotlib.pyplot as plt\n",
    "import random\n",
    "%matplotlib inline"
   ]
  },
  {
   "cell_type": "code",
   "execution_count": 4,
   "id": "5dcf0495-12c4-4580-83fb-a3d1b53fb985",
   "metadata": {},
   "outputs": [
    {
     "data": {
      "text/plain": [
       "['emma', 'olivia', 'ava', 'isabella', 'sophia', 'charlotte', 'mia', 'amelia']"
      ]
     },
     "execution_count": 4,
     "metadata": {},
     "output_type": "execute_result"
    }
   ],
   "source": [
    "words = open('names.txt', 'r').read().splitlines()\n",
    "# words = open('rwords.txt', 'r', encoding='utf-8').read().splitlines()\n",
    "words[:8]"
   ]
  },
  {
   "cell_type": "code",
   "execution_count": 5,
   "id": "559d30a9-6ba7-48bb-b046-7387ad890189",
   "metadata": {},
   "outputs": [],
   "source": [
    "chars = sorted(list(set(''.join(words))))\n",
    "itos =  {i+1:s for i,s in enumerate(chars)}\n",
    "itos[0] = '.'\n",
    "stoi = {i:s for s,i in itos.items()}\n",
    "vocab_size = len(itos)"
   ]
  },
  {
   "cell_type": "code",
   "execution_count": 6,
   "id": "95d210b4-f7cf-4855-941b-b66cb7a2fb22",
   "metadata": {},
   "outputs": [],
   "source": [
    "block_size = 10\n",
    "\n",
    "def build_dataset(words):\n",
    "    X,Y = [],[]\n",
    "    for w in words:\n",
    "        context = [0] * block_size\n",
    "        for c in w + '.':\n",
    "            ix = stoi[c]\n",
    "            X.append(context)\n",
    "            Y.append(ix)\n",
    "            context = context[1:] + [ix]\n",
    "    \n",
    "    X = torch.tensor(X)        \n",
    "    Y = torch.tensor(Y)\n",
    "    return X,Y\n",
    "\n",
    "random.seed(33)\n",
    "random.shuffle(words)\n",
    "\n",
    "n1 = int(0.8 * len(words))\n",
    "n2 = int(0.9 * len(words))\n",
    "\n",
    "Xtr,Ytr = build_dataset(words[:n1])\n",
    "Xdev, Ydev = build_dataset(words[n1:n2])\n",
    "Xte, Yte = build_dataset(words[n2:])"
   ]
  },
  {
   "cell_type": "code",
   "execution_count": 7,
   "id": "2fa5af6f-d1ee-4fd7-9299-3476ebcc5876",
   "metadata": {},
   "outputs": [
    {
     "data": {
      "text/plain": [
       "65297"
      ]
     },
     "execution_count": 7,
     "metadata": {},
     "output_type": "execute_result"
    }
   ],
   "source": [
    "n_embd = 10\n",
    "n_hidden = 500\n",
    "\n",
    "C = torch.randn(vocab_size, n_embd)\n",
    "W1 = torch.randn(n_embd* block_size ,n_hidden)  * (5/3) / (n_embd* block_size)**0.5 \n",
    "b1 = torch.randn(n_hidden) * 0.01\n",
    "W2 = torch.randn(n_hidden ,vocab_size) * 0.01\n",
    "b2 = torch.randn(vocab_size) * 0\n",
    "\n",
    "bngain = torch.ones((1,n_hidden))\n",
    "bnbias = torch.zeros((1,n_hidden))\n",
    "bnmean_running = torch.zeros((1,n_hidden))\n",
    "bnstd_running = torch.ones((1,n_hidden))\n",
    "\n",
    "parameters= [C , W1 , b1 , W2 , b2, bngain, bnbias]\n",
    "\n",
    "for p in parameters:\n",
    "    p.requires_grad = True\n",
    "\n",
    "sum(p.nelement() for p in parameters)"
   ]
  },
  {
   "cell_type": "code",
   "execution_count": 8,
   "id": "65b64e4f-a073-4aa8-a5cf-8d2ed770d84a",
   "metadata": {},
   "outputs": [
    {
     "name": "stdout",
     "output_type": "stream",
     "text": [
      "0: 3.343235969543457\n",
      "10000: 2.4740166664123535\n",
      "20000: 2.3188698291778564\n",
      "30000: 2.253460168838501\n",
      "40000: 1.9107609987258911\n",
      "50000: 2.3613126277923584\n",
      "60000: 2.2524850368499756\n",
      "70000: 1.9750839471817017\n",
      "80000: 2.2724897861480713\n",
      "90000: 2.2335116863250732\n"
     ]
    }
   ],
   "source": [
    "max_steps = 10*10000\n",
    "batch_size = 32\n",
    "lossi = []\n",
    "\n",
    "for i in range(max_steps):\n",
    "    # minibatch\n",
    "    ix= torch.randint(0, Xtr.shape[0], (batch_size,))\n",
    "    Xb,Yb = Xtr[ix], Ytr[ix]     \n",
    "\n",
    "    #forward pass\n",
    "    emb = C[Xb]\n",
    "    embcat = emb.view(emb.shape[0],-1)\n",
    "    \n",
    "    #Linear layer\n",
    "    hpreact = embcat @ W1 + b1\n",
    "\n",
    "    # BatchNorm Layer\n",
    "    #==========================================================================\n",
    "    bnmeani =  hpreact.mean(0,keepdim =True)\n",
    "    bnstdi =  hpreact.std(0,keepdim =True)\n",
    "    hpreact = bngain * (hpreact - bnmeani) / (bnstdi + 1e-5) + bnbias\n",
    "    with torch.no_grad():\n",
    "        bnmean_running = 0.999 * bnmean_running + 0.001 * bnmeani\n",
    "        bnstd_running = 0.999 * bnstd_running + 0.001 * bnstdi\n",
    "    #==========================================================================\n",
    "    \n",
    "    # no-linerity  \n",
    "    h = torch.tanh(hpreact) # hidden layer\n",
    "    logits = h @ W2 + b2 # output\n",
    "    loss = F.cross_entropy(logits, Yb) # loss function\n",
    "    \n",
    "    # backward pass\n",
    "    for p in parameters:\n",
    "        p.grad = None\n",
    "    loss.backward()\n",
    "    \n",
    "    # update\n",
    "    lr = 0.1 if i < 1000 else 0.01\n",
    "    for p in parameters:\n",
    "        p.data += -lr* p.grad\n",
    "        \n",
    "    # track stats\n",
    "    if i % 10000 == 0:\n",
    "        print(f\"{i}: {loss.item()}\")\n",
    "        \n",
    "    lossi.append(loss.log10().item())"
   ]
  },
  {
   "cell_type": "code",
   "execution_count": 9,
   "id": "6c2de95b-0816-43aa-a71f-11b3fab61b23",
   "metadata": {},
   "outputs": [],
   "source": [
    "# with torch.no_grad():\n",
    "#     emb = C[Xtr]\n",
    "#     embcat = emb.view(emb.shape[0],-1)\n",
    "#     hpreact = embcat @ W1 + b1\n",
    "#     bnmean = hpreact.mean(0,keepdim =True)\n",
    "#     bnstd = hpreact.std(0,keepdim =True)"
   ]
  },
  {
   "cell_type": "code",
   "execution_count": 10,
   "id": "f1f7eea8-913a-4874-a64e-779e545c035b",
   "metadata": {},
   "outputs": [],
   "source": [
    "# plt.subplot(311)\n",
    "# plt.hist(hpreact.view(-1).tolist(), 50)\n",
    "# plt.title('Histogram of hpreact')\n",
    "\n",
    "\n",
    "# plt.subplot(312)\n",
    "# plt.hist(h.view(-1).tolist(), 50)\n",
    "# plt.title('Histogram of h')\n",
    "\n",
    "\n",
    "# plt.subplot(313)\n",
    "# plt.imshow(h.abs() > 0.99, cmap='gray', interpolation='nearest')\n",
    "# plt.title('Mask of |h| > 0.99')\n",
    "\n",
    "# plt.subplots_adjust(hspace=0.5) "
   ]
  },
  {
   "cell_type": "code",
   "execution_count": 11,
   "id": "bd6a1048-7c7e-4912-90ca-5e395af297b1",
   "metadata": {},
   "outputs": [],
   "source": [
    "# plt.plot(lossi)"
   ]
  },
  {
   "cell_type": "code",
   "execution_count": 12,
   "id": "c53df641-4b00-4566-8679-d3b9fa285335",
   "metadata": {},
   "outputs": [
    {
     "name": "stdout",
     "output_type": "stream",
     "text": [
      "train, loss = 2.0321037769317627\n",
      "val, loss = 2.1050684452056885\n"
     ]
    }
   ],
   "source": [
    "@torch.no_grad()\n",
    "def split_loss(split):\n",
    "    X, Y = {\n",
    "        'train': (Xtr, Ytr),\n",
    "        'val': (Xdev, Ydev),\n",
    "        'test': (Xte, Yte)\n",
    "    }[split]\n",
    "    emb = C[X]\n",
    "    embcat = emb.view(emb.shape[0], -1)\n",
    "    hpreact = embcat @ W1 + b1\n",
    "    hpreact = bngain * (hpreact - bnmean_running) / (bnstd_running + 1e-5) + bnbias\n",
    "    h = torch.tanh(hpreact)\n",
    "    logits = h @ W2 + b2\n",
    "    loss = F.cross_entropy(logits, Y)\n",
    "    print(f\"{split}, loss = {loss.item()}\")\n",
    "\n",
    "split_loss('train')\n",
    "split_loss('val')"
   ]
  },
  {
   "cell_type": "code",
   "execution_count": 13,
   "id": "902b9d57-efdd-4464-853a-919204e8150a",
   "metadata": {},
   "outputs": [
    {
     "name": "stdout",
     "output_type": "stream",
     "text": [
      "laenel.\n",
      "caristadis.\n",
      "kinvy.\n",
      "zero.\n",
      "japhenn.\n",
      "farler.\n",
      "kenuyn.\n",
      "esrus.\n",
      "sonleigh.\n",
      "akharh.\n",
      "shrlyn.\n",
      "charlun.\n",
      "chamilighu.\n",
      "windor.\n",
      "namieri.\n",
      "kimina.\n",
      "yusu.\n",
      "nuzoesh.\n",
      "jaivian.\n",
      "niakni.\n"
     ]
    }
   ],
   "source": [
    "for _ in range(20):\n",
    "    out = []\n",
    "    context = [0] * block_size\n",
    "    while True:\n",
    "        emb = C[torch.tensor([context])]  # Shape: (1, block_size, embedding_dim), e.g., (1, 3, 10)\n",
    "        embcat = emb.view(emb.shape[0], -1)  # Shape: (1, block_size * embedding_dim), e.g., (1, 30)\n",
    "        hpreact = embcat @ W1 + b1  # Shape: (1, hidden_dim), e.g., (1, 200)\n",
    "        hpreact = bngain * (hpreact - bnmean_running) / (bnstd_running + 1e-5) + bnbias  # BatchNorm\n",
    "        h = torch.tanh(hpreact)  # Shape: (1, 200)\n",
    "        logits = h @ W2 + b2  # Shape: (1, vocab_size)\n",
    "        probs = F.softmax(logits, dim=1)\n",
    "        ix = torch.multinomial(probs, 1)\n",
    "        context = context[1:] + [ix.item()]\n",
    "        out.append(ix.item())\n",
    "        if ix == 0:\n",
    "            break\n",
    "    print(''.join(itos[i] for i in out))"
   ]
  },
  {
   "cell_type": "code",
   "execution_count": 494,
   "id": "c633b8d3-c352-4f6a-9e76-3b161cf66256",
   "metadata": {},
   "outputs": [],
   "source": [
    "# # # logits = torch.tensor([0.0, 0.0, 0.0, 0.0])\n",
    "# # logits = torch.randn(4)\n",
    "# # probs = torch.softmax(logits,dim=0)\n",
    "# # loss = - probs[2].log()\n",
    "# # probs , loss\n",
    "\n",
    "\n",
    "# x = torch.randn(1000,10)\n",
    "# w = torch.randn(10,200) / 10**0.5\n",
    "# y = x @ w \n",
    "\n",
    "# print(x.mean(), x.std())\n",
    "# print(y.mean(), y.std())\n",
    "\n",
    "# plt.figure(figsize=(28,5))\n",
    "# plt.subplot(121)\n",
    "# plt.hist(x.view(-1).tolist(), 50);\n",
    "# plt.subplot(122)\n",
    "# plt.hist(y.view(-1).tolist(), 50);"
   ]
  },
  {
   "cell_type": "code",
   "execution_count": 495,
   "id": "6dee202d-e3ec-428a-af2a-f965bff03ca7",
   "metadata": {},
   "outputs": [],
   "source": [
    "# ### the inital loss\n",
    "# to fix we had to make the logits samller \n",
    "# to be close to the expected loss (1/27) \n",
    "# we did this by makeing w2 and b2 smaller\n",
    "\n",
    "# ### fix the sattuerd tanh\n",
    "# we fix it by making the values in the pre activation layer smaller \n",
    "# because if they too high tanh will be 1 or -1\n",
    "# if it is 1 or -1 the gradient will be satrt vanishit..\n",
    "# and if u think about it when u cahnge the input the output wont really change\n",
    "# beacause we are in the falt region of tanh ...\n",
    "\n",
    "## batchNorm\n",
    "#tweaks each number so they all have an average of 0 and a spread of 1. \n"
   ]
  },
  {
   "cell_type": "code",
   "execution_count": null,
   "id": "72189037-7ed2-4934-b762-b43368210de6",
   "metadata": {},
   "outputs": [],
   "source": [
    "# actvation and gradient and their statstics\n",
    "# distrubtion in actvation layer if it is too confident\n",
    "# u get this hookey stick.. and to\n",
    "    "
   ]
  },
  {
   "cell_type": "code",
   "execution_count": 1,
   "id": "2e2dc406-763f-4b88-b4d0-b30cc5673022",
   "metadata": {},
   "outputs": [
    {
     "ename": "NameError",
     "evalue": "name 'torch' is not defined",
     "output_type": "error",
     "traceback": [
      "\u001b[31m---------------------------------------------------------------------------\u001b[39m",
      "\u001b[31mNameError\u001b[39m                                 Traceback (most recent call last)",
      "\u001b[36mCell\u001b[39m\u001b[36m \u001b[39m\u001b[32mIn[1]\u001b[39m\u001b[32m, line 58\u001b[39m\n\u001b[32m     56\u001b[39m n_embd = \u001b[32m10\u001b[39m\n\u001b[32m     57\u001b[39m n_hidden = \u001b[32m100\u001b[39m\n\u001b[32m---> \u001b[39m\u001b[32m58\u001b[39m g = \u001b[43mtorch\u001b[49m.Generator().manual_seed(\u001b[32m2147483647\u001b[39m)\n\u001b[32m     59\u001b[39m C = torch.randn((vocab_size, n_embd), generator=g)\n\u001b[32m     61\u001b[39m layers = [\n\u001b[32m     62\u001b[39m     Linear(n_embd * block_size, n_hidden), Tanh(),\n\u001b[32m     63\u001b[39m     Linear(           n_hidden, n_hidden), Tanh(),\n\u001b[32m   (...)\u001b[39m\u001b[32m     67\u001b[39m     Linear(           n_hidden, vocab_size),\n\u001b[32m     68\u001b[39m ]\n",
      "\u001b[31mNameError\u001b[39m: name 'torch' is not defined"
     ]
    }
   ],
   "source": [
    "class Linear:\n",
    "\n",
    "    def __init__(self, fan_in , fan_out, bias= True):\n",
    "        self.weight = torch.randn(fan_in, fan_out) / fan_in**0.5 # kamining init\n",
    "        self.bias = torch.zeros(fan_out) if bias else None\n",
    "\n",
    "    def __call__(self,x):\n",
    "        self.out = x @ self.weight\n",
    "        if self.bias is not None:\n",
    "            self.out += self.bias\n",
    "        return self.out\n",
    "\n",
    "    def parameters(self):\n",
    "        return [self.weight] + [] if self.bias is None else [self.bias]\n",
    "\n",
    "\n",
    "class BatchNorm1d:\n",
    "\n",
    "    def __init__(self, dim, eps=1e-5, momentum=0.1): \n",
    "        self.eps = eps\n",
    "        self.momentum = True\n",
    "        self.training = True\n",
    "        # parameters\n",
    "        self.gamma = torch.ones(dim)\n",
    "        self.beta = torch.zeros(dim)\n",
    "        # buffers\n",
    "        self.running_mean = torch.zeros((1,fan_out))\n",
    "        self.running_var = torch.ones((1,fan_out))\n",
    "\n",
    "    def __call__(self, x):\n",
    "        if self.training:\n",
    "            xmean = x.mean(0, keepdim=True)\n",
    "            xvar = x.var(0, keepdim=True)\n",
    "        else:\n",
    "            xmean = self.running_mean\n",
    "            xvar = self.running_var\n",
    "        xhat = (x - xmean) / torch.sqrt(xvar + self.eps)\n",
    "        self.out = self.gamma * xhat + self.beta \n",
    "        # update buffers\n",
    "        if self.training:\n",
    "            with torch.no_grad():\n",
    "                self.running_mean = (1 - self.momentum) * self.running_mean + self.momentum * xmean\n",
    "                self.running_var = (1 - self.momentum) * self.running_var + self.momentum * xvar\n",
    "            return self.out\n",
    "\n",
    "    def parameters(self):\n",
    "        return (self.gamma, self.beta)\n",
    "\n",
    "class Tanh:\n",
    "    def __call__(self, x):\n",
    "        self.out = torch.tanh(x)\n",
    "        return self.out\n",
    "    def parameters(self):\n",
    "        return []\n",
    "\n",
    "n_embd = 10\n",
    "n_hidden = 100\n",
    "g = torch.Generator().manual_seed(2147483647)\n",
    "C = torch.randn((vocab_size, n_embd), generator=g)\n",
    "\n",
    "layers = [\n",
    "    Linear(n_embd * block_size, n_hidden), Tanh(),\n",
    "    Linear(           n_hidden, n_hidden), Tanh(),\n",
    "    Linear(           n_hidden, n_hidden), Tanh(),\n",
    "    Linear(           n_hidden, n_hidden), Tanh(),\n",
    "    Linear(           n_hidden, n_hidden), Tanh(),\n",
    "    Linear(           n_hidden, vocab_size),\n",
    "]\n",
    "\n",
    "with torch.no_grad():\n",
    "    layers[-1].weight *= 0.1\n",
    "    for layer in layers[:-1]:\n",
    "        if isinstance(layer, Linear):\n",
    "            layer.weight *= 5/3\n",
    "\n",
    "parameters = [C] + [p for layer in layers for p in layer.parameters()]\n",
    "\n",
    "for p in parameters:\n",
    "    p.requires_grad = True"
   ]
  },
  {
   "cell_type": "code",
   "execution_count": null,
   "id": "2651dfd5-0b63-4176-bbd9-a5f9a65fe553",
   "metadata": {},
   "outputs": [],
   "source": []
  }
 ],
 "metadata": {
  "kernelspec": {
   "display_name": "Python 3 (ipykernel)",
   "language": "python",
   "name": "python3"
  },
  "language_info": {
   "codemirror_mode": {
    "name": "ipython",
    "version": 3
   },
   "file_extension": ".py",
   "mimetype": "text/x-python",
   "name": "python",
   "nbconvert_exporter": "python",
   "pygments_lexer": "ipython3",
   "version": "3.13.3"
  }
 },
 "nbformat": 4,
 "nbformat_minor": 5
}
