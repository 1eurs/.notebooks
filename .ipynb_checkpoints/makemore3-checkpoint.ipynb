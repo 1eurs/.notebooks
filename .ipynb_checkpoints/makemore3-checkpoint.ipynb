{
 "cells": [
  {
   "cell_type": "code",
   "execution_count": 356,
   "id": "df242341-104e-43a2-a0fc-a5825ae7c737",
   "metadata": {},
   "outputs": [],
   "source": [
    "import torch\n",
    "import torch.nn.functional as F\n",
    "import matplotlib.pyplot as plt\n",
    "import random\n",
    "%matplotlib inline"
   ]
  },
  {
   "cell_type": "code",
   "execution_count": 357,
   "id": "5dcf0495-12c4-4580-83fb-a3d1b53fb985",
   "metadata": {},
   "outputs": [
    {
     "data": {
      "text/plain": [
       "['فنسور',\n",
       " 'للوصفات',\n",
       " 'والناشئة',\n",
       " 'باكاستان',\n",
       " 'الإنحسار',\n",
       " 'الراآن',\n",
       " 'والعنبسي',\n",
       " 'البواعجا']"
      ]
     },
     "execution_count": 357,
     "metadata": {},
     "output_type": "execute_result"
    }
   ],
   "source": [
    "# words = open('names.txt', 'r').read().splitlines()\n",
    "words = open('rwords.txt', 'r', encoding='utf-8').read().splitlines()\n",
    "words[:8]"
   ]
  },
  {
   "cell_type": "code",
   "execution_count": 358,
   "id": "d53a1201-9464-4d6b-936d-6051d86f8c49",
   "metadata": {},
   "outputs": [],
   "source": [
    "words = words[:15000]"
   ]
  },
  {
   "cell_type": "code",
   "execution_count": 359,
   "id": "559d30a9-6ba7-48bb-b046-7387ad890189",
   "metadata": {},
   "outputs": [],
   "source": [
    "chars = sorted(list(set(''.join(words))))\n",
    "itos =  {i+1:s for i,s in enumerate(chars)}\n",
    "itos[0] = '.'\n",
    "stoi = {i:s for s,i in itos.items()}\n",
    "vocab_size = len(itos)"
   ]
  },
  {
   "cell_type": "code",
   "execution_count": 360,
   "id": "95d210b4-f7cf-4855-941b-b66cb7a2fb22",
   "metadata": {},
   "outputs": [],
   "source": [
    "block_size = 10\n",
    "\n",
    "def build_dataset(words):\n",
    "    X,Y = [],[]\n",
    "    for w in words:\n",
    "        context = [0] * block_size\n",
    "        for c in w + '.':\n",
    "            ix = stoi[c]\n",
    "            X.append(context)\n",
    "            Y.append(ix)\n",
    "            context = context[1:] + [ix]\n",
    "    \n",
    "    X = torch.tensor(X)        \n",
    "    Y = torch.tensor(Y)\n",
    "    return X,Y\n",
    "\n",
    "random.seed(33)\n",
    "random.shuffle(words)\n",
    "\n",
    "n1 = int(0.8 * len(words))\n",
    "n2 = int(0.9 * len(words))\n",
    "\n",
    "Xtr,Ytr = build_dataset(words[:n1])\n",
    "Xdev, Ydev = build_dataset(words[n1:n2])\n",
    "Xte, Yte = build_dataset(words[n2:])"
   ]
  },
  {
   "cell_type": "code",
   "execution_count": 384,
   "id": "2fa5af6f-d1ee-4fd7-9299-3476ebcc5876",
   "metadata": {},
   "outputs": [
    {
     "data": {
      "text/plain": [
       "70407"
      ]
     },
     "execution_count": 384,
     "metadata": {},
     "output_type": "execute_result"
    }
   ],
   "source": [
    "n_embd = 10\n",
    "n_hidden = 500\n",
    "\n",
    "C = torch.randn(vocab_size, n_embd)\n",
    "W1 = torch.randn(n_embd* block_size ,n_hidden)  * (5/3) / (n_embd* block_size)**0.5 \n",
    "b1 = torch.randn(n_hidden) * 0.01\n",
    "W2 = torch.randn(n_hidden ,vocab_size) * 0.01\n",
    "b2 = torch.randn(vocab_size) * 0\n",
    "\n",
    "bngain = torch.ones((1,n_hidden))\n",
    "bnbias = torch.zeros((1,n_hidden))\n",
    "\n",
    "parameters= [C , W1 , b1 , W2 , b2,bngain,bnbias]\n",
    "\n",
    "for p in parameters:\n",
    "    p.requires_grad = True\n",
    "\n",
    "sum(p.nelement() for p in parameters)"
   ]
  },
  {
   "cell_type": "code",
   "execution_count": 385,
   "id": "fed5c6ad-454e-40f8-88e7-f24aac53b590",
   "metadata": {},
   "outputs": [
    {
     "data": {
      "text/plain": [
       "torch.Size([32, 500])"
      ]
     },
     "execution_count": 385,
     "metadata": {},
     "output_type": "execute_result"
    }
   ],
   "source": [
    "hpreact.shape"
   ]
  },
  {
   "cell_type": "code",
   "execution_count": 386,
   "id": "4b1bb990-be14-4758-8f31-95c6093d0e92",
   "metadata": {},
   "outputs": [
    {
     "data": {
      "text/plain": [
       "torch.Size([1, 500])"
      ]
     },
     "execution_count": 386,
     "metadata": {},
     "output_type": "execute_result"
    }
   ],
   "source": [
    "hpreact.mean(0,keepdim =True).shape"
   ]
  },
  {
   "cell_type": "code",
   "execution_count": 387,
   "id": "5683ac96-9f8b-4856-a140-b3838788db3b",
   "metadata": {},
   "outputs": [
    {
     "data": {
      "text/plain": [
       "torch.Size([1, 500])"
      ]
     },
     "execution_count": 387,
     "metadata": {},
     "output_type": "execute_result"
    }
   ],
   "source": [
    "hpreact.std(0,keepdim =True).shape"
   ]
  },
  {
   "cell_type": "code",
   "execution_count": 388,
   "id": "65b64e4f-a073-4aa8-a5cf-8d2ed770d84a",
   "metadata": {},
   "outputs": [
    {
     "name": "stdout",
     "output_type": "stream",
     "text": [
      "0: 3.6058719158172607\n",
      "1000: 3.1632332801818848\n",
      "2000: 2.4953253269195557\n",
      "3000: 2.5311825275421143\n",
      "4000: 2.653280019760132\n",
      "5000: 2.7472145557403564\n",
      "6000: 3.0976736545562744\n",
      "7000: 2.532382011413574\n",
      "8000: 2.7480502128601074\n",
      "9000: 2.8642609119415283\n"
     ]
    }
   ],
   "source": [
    "max_steps = 10*1000\n",
    "batch_size = 32\n",
    "lossi = []\n",
    "\n",
    "for i in range(max_steps):\n",
    "    #minibatch\n",
    "    ix= torch.randint(0, Xtr.shape[0], (batch_size,))\n",
    "    Xb,Yb = Xtr[ix], Ytr[ix]     \n",
    "\n",
    "    #forward pass\n",
    "    emb = C[Xb]\n",
    "    embcat = emb.view(emb.shape[0],-1)\n",
    "    hpreact = embcat @ W1 + b1\n",
    "    h = torch.tanh(hpreact)\n",
    "    logits = h @ W2 + b2\n",
    "    loss = F.cross_entropy(logits, Yb)\n",
    "    \n",
    "    # backward pass\n",
    "    for p in parameters:\n",
    "        p.grad = None\n",
    "    loss.backward()\n",
    "    \n",
    "    #update\n",
    "    lr = 0.1 if i < 1000 else 0.01\n",
    "    for p in parameters:\n",
    "        p.data += -lr* p.grad\n",
    "        \n",
    "    #track stats\n",
    "    if i % 1000 == 0:\n",
    "        print(f\"{i}: {loss.item()}\")\n",
    "    lossi.append(loss.log10().item())\n"
   ]
  },
  {
   "cell_type": "code",
   "execution_count": 367,
   "id": "f1f7eea8-913a-4874-a64e-779e545c035b",
   "metadata": {},
   "outputs": [
    {
     "data": {
      "image/png": "[encoded data removed]",
      "text/plain": [
       "<Figure size 640x480 with 3 Axes>"
      ]
     },
     "metadata": {},
     "output_type": "display_data"
    }
   ],
   "source": [
    "plt.subplot(311)\n",
    "plt.hist(hpreact.view(-1).tolist(), 50)\n",
    "plt.title('Histogram of hpreact')\n",
    "\n",
    "\n",
    "plt.subplot(312)\n",
    "plt.hist(h.view(-1).tolist(), 50)\n",
    "plt.title('Histogram of h')\n",
    "\n",
    "\n",
    "plt.subplot(313)\n",
    "plt.imshow(h.abs() > 0.99, cmap='gray', interpolation='nearest')\n",
    "plt.title('Mask of |h| > 0.99')\n",
    "\n",
    "plt.subplots_adjust(hspace=0.5) "
   ]
  },
  {
   "cell_type": "code",
   "execution_count": 368,
   "id": "bd6a1048-7c7e-4912-90ca-5e395af297b1",
   "metadata": {},
   "outputs": [
    {
     "data": {
      "text/plain": [
       "[<matplotlib.lines.Line2D at 0x1bafb9ebb10>]"
      ]
     },
     "execution_count": 368,
     "metadata": {},
     "output_type": "execute_result"
    },
    {
     "data": {
      "image/png": "[encoded data removed]",
      "text/plain": [
       "<Figure size 640x480 with 1 Axes>"
      ]
     },
     "metadata": {},
     "output_type": "display_data"
    }
   ],
   "source": [
    "plt.plot(lossi)"
   ]
  },
  {
   "cell_type": "code",
   "execution_count": 382,
   "id": "c53df641-4b00-4566-8679-d3b9fa285335",
   "metadata": {},
   "outputs": [
    {
     "name": "stdout",
     "output_type": "stream",
     "text": [
      "train, loss = 3.947967052459717\n",
      "val, loss = 3.9649322032928467\n"
     ]
    }
   ],
   "source": [
    "@torch.no_grad()\n",
    "def split_loss(split):\n",
    "    X,Y = {\n",
    "        'train': (Xtr,Ytr),\n",
    "        'val':(Xdev, Ydev),\n",
    "        'test': (Xte,Yte)\n",
    "    }[split]\n",
    "\n",
    "    emb = C[X]\n",
    "    embcat = emb.view(emb.shape[0],-1)\n",
    "    hpreact = embcat @ W1 + b1\n",
    "    hpreact = bngain * (hpreact - hpreact.mean(0,keepdim =True)) / hpreact.std(0,keepdim =True) + bnbias\n",
    "    h = torch.tanh(hpreact)\n",
    "    logits = h @ W2 + b2\n",
    "    loss = F.cross_entropy(logits, Y)\n",
    "    print(f\"{split}, loss = {loss}\")\n",
    "    \n",
    "split_loss('train')\n",
    "split_loss('val')"
   ]
  },
  {
   "cell_type": "code",
   "execution_count": 379,
   "id": "902b9d57-efdd-4464-853a-919204e8150a",
   "metadata": {},
   "outputs": [
    {
     "name": "stdout",
     "output_type": "stream",
     "text": [
      "هواويهي.\n",
      "حصشفكك.\n",
      "تلأمقنما.\n",
      "ساعخاس.\n",
      "ويشنها.\n",
      "والأبفار.\n",
      "اغبة.\n",
      "نتناز.\n",
      "وبالبائل.\n",
      "إليدا.\n",
      "ثقبض.\n",
      "يجيد.\n",
      "ومتسفهاه.\n",
      "أونلنده.\n",
      "ويارنا.\n",
      "فلتمدد.\n",
      "بالاذدمع.\n",
      "والرياقس.\n",
      "أتبرم.\n",
      "ليفوفلها.\n"
     ]
    }
   ],
   "source": [
    "for _ in range(20):\n",
    "    out = []\n",
    "    context = [0] * block_size\n",
    "    while True:\n",
    "        emb = C[torch.tensor([context])]  # Shape: (1, 3, 10)\n",
    "        embcat = emb.view(emb.shape[0], -1)  # Shape: (1, 30)\n",
    "        h = torch.tanh(embcat @ W1 + b1)  # Shape: (1, 200)\n",
    "        logits = h @ W2 + b2  # Shape:| (1, vocab_size)\n",
    "        probs = F.softmax(logits, dim=1)\n",
    "        ix = torch.multinomial(probs, 1)\n",
    "        context = context[1:] + [ix.item()]  # Update context\n",
    "        out.append(ix.item())\n",
    "        if ix == 0:\n",
    "            break\n",
    "    print(''.join(itos[i] for i in out))"
   ]
  },
  {
   "cell_type": "code",
   "execution_count": 300,
   "id": "c633b8d3-c352-4f6a-9e76-3b161cf66256",
   "metadata": {},
   "outputs": [
    {
     "name": "stdout",
     "output_type": "stream",
     "text": [
      "tensor(0.0036) tensor(0.9913)\n",
      "tensor(-0.0004) tensor(1.0046)\n"
     ]
    },
    {
     "data": {
      "image/png": "[encoded data removed]",
      "text/plain": [
       "<Figure size 2800x500 with 2 Axes>"
      ]
     },
     "metadata": {},
     "output_type": "display_data"
    }
   ],
   "source": [
    "# # logits = torch.tensor([0.0, 0.0, 0.0, 0.0])\n",
    "# logits = torch.randn(4)\n",
    "# probs = torch.softmax(logits,dim=0)\n",
    "# loss = - probs[2].log()\n",
    "# probs , loss\n",
    "\n",
    "\n",
    "x = torch.randn(1000,10)\n",
    "w = torch.randn(10,200) / 10**0.5\n",
    "y = x @ w \n",
    "\n",
    "print(x.mean(), x.std())\n",
    "print(y.mean(), y.std())\n",
    "\n",
    "plt.figure(figsize=(28,5))\n",
    "plt.subplot(121)\n",
    "plt.hist(x.view(-1).tolist(), 50);\n",
    "plt.subplot(122)\n",
    "plt.hist(y.view(-1).tolist(), 50);"
   ]
  },
  {
   "cell_type": "code",
   "execution_count": 279,
   "id": "6dee202d-e3ec-428a-af2a-f965bff03ca7",
   "metadata": {},
   "outputs": [],
   "source": [
    "# ### the inital loss\n",
    "# to fix we had to make the logits samller \n",
    "# to be close to the expected loss (1/27) \n",
    "# we did this by makeing w2 and b2 smaller\n",
    "\n",
    "# ### fix the sattuerd tanh\n",
    "# we fix it by making the values in the pre activation layer smaller \n",
    "# because if they too high tanh will be 1 or -1\n",
    "# if it is 1 or -1 the gradient will be satrt vanishit..\n",
    "# and if u think about it when u cahnge the input the output wont really change\n",
    "# beacause we are in the falt region of tanh ...\n"
   ]
  },
  {
   "cell_type": "code",
   "execution_count": 308,
   "id": "5e519f7d-f824-4bf6-adea-81759ea51075",
   "metadata": {},
   "outputs": [
    {
     "data": {
      "text/plain": [
       "tensor(2.0321)"
      ]
     },
     "execution_count": 308,
     "metadata": {},
     "output_type": "execute_result"
    }
   ],
   "source": [
    "(torch.randn(1000) *2).std()"
   ]
  },
  {
   "cell_type": "code",
   "execution_count": null,
   "id": "60ae6597-c0b8-441c-9b8c-8fac44e0c993",
   "metadata": {},
   "outputs": [],
   "source": []
  }
 ],
 "metadata": {
  "kernelspec": {
   "display_name": "Python 3 (ipykernel)",
   "language": "python",
   "name": "python3"
  },
  "language_info": {
   "codemirror_mode": {
    "name": "ipython",
    "version": 3
   },
   "file_extension": ".py",
   "mimetype": "text/x-python",
   "name": "python",
   "nbconvert_exporter": "python",
   "pygments_lexer": "ipython3",
   "version": "3.13.3"
  }
 },
 "nbformat": 4,
 "nbformat_minor": 5
}
